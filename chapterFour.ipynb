{
 "metadata": {
  "language_info": {
   "codemirror_mode": {
    "name": "ipython",
    "version": 3
   },
   "file_extension": ".py",
   "mimetype": "text/x-python",
   "name": "python",
   "nbconvert_exporter": "python",
   "pygments_lexer": "ipython3",
   "version": "3.8.6-final"
  },
  "orig_nbformat": 2,
  "kernelspec": {
   "name": "python3",
   "display_name": "Python 3.8.6 64-bit",
   "metadata": {
    "interpreter": {
     "hash": "2db524e06e9f5f4ffedc911c917cb75e12dbc923643829bf417064a77eb14d37"
    }
   }
  }
 },
 "nbformat": 4,
 "nbformat_minor": 2,
 "cells": [
  {
   "source": [
    "# Comma Code"
   ],
   "cell_type": "markdown",
   "metadata": {}
  },
  {
   "cell_type": "code",
   "execution_count": 1,
   "metadata": {},
   "outputs": [],
   "source": [
    "spam = ['apples','bananas','tofu','cats']"
   ]
  },
  {
   "cell_type": "code",
   "execution_count": 2,
   "metadata": {},
   "outputs": [],
   "source": [
    "def commaCode(lista):\n",
    "    salida =''\n",
    "    for i in range(len(lista)):\n",
    "        if i<len(lista)-1:\n",
    "            salida += lista[i]+', '\n",
    "        else:\n",
    "            salida += 'and ' + lista[i]\n",
    "    print(salida)\n"
   ]
  },
  {
   "cell_type": "code",
   "execution_count": 3,
   "metadata": {},
   "outputs": [
    {
     "output_type": "stream",
     "name": "stdout",
     "text": [
      "apples, bananas, tofu, and cats\n"
     ]
    }
   ],
   "source": [
    "commaCode(spam)"
   ]
  },
  {
   "cell_type": "code",
   "execution_count": 4,
   "metadata": {},
   "outputs": [],
   "source": [
    "spam.append('dogs')"
   ]
  },
  {
   "cell_type": "code",
   "execution_count": 5,
   "metadata": {},
   "outputs": [
    {
     "output_type": "stream",
     "name": "stdout",
     "text": [
      "apples, bananas, tofu, cats, and dogs\n"
     ]
    }
   ],
   "source": [
    "commaCode(spam)"
   ]
  },
  {
   "cell_type": "code",
   "execution_count": 6,
   "metadata": {},
   "outputs": [],
   "source": [
    "hola = []"
   ]
  },
  {
   "cell_type": "code",
   "execution_count": 7,
   "metadata": {},
   "outputs": [
    {
     "output_type": "stream",
     "name": "stdout",
     "text": [
      "\n"
     ]
    }
   ],
   "source": [
    "commaCode(hola)"
   ]
  },
  {
   "source": [
    "# Coin Flip Streaks"
   ],
   "cell_type": "markdown",
   "metadata": {}
  },
  {
   "cell_type": "code",
   "execution_count": 8,
   "metadata": {},
   "outputs": [
    {
     "output_type": "stream",
     "name": "stdout",
     "text": [
      "2000000 loops, best of 5: 136 nsec per loop\n"
     ]
    }
   ],
   "source": [
    "!python -m timeit -s \"import random\" \"bool(random.getrandbits(1))\""
   ]
  },
  {
   "cell_type": "code",
   "execution_count": 9,
   "metadata": {},
   "outputs": [
    {
     "output_type": "stream",
     "name": "stdout",
     "text": [
      "500000 loops, best of 5: 646 nsec per loop\n"
     ]
    }
   ],
   "source": [
    "!python -m timeit -s \"import random\" \"random.choice([True, False])\""
   ]
  },
  {
   "cell_type": "code",
   "execution_count": 10,
   "metadata": {},
   "outputs": [
    {
     "output_type": "stream",
     "name": "stdout",
     "text": [
      "200000 loops, best of 5: 983 nsec per loop\n"
     ]
    }
   ],
   "source": [
    "!python -m timeit -s \"import random\" \"random.randint(0, 1)\""
   ]
  },
  {
   "cell_type": "code",
   "execution_count": 14,
   "metadata": {},
   "outputs": [
    {
     "output_type": "stream",
     "name": "stdout",
     "text": [
      "[0, 1, 1, 0, 0, 1, 0, 0, 0, 0]\n"
     ]
    }
   ],
   "source": [
    "import random\n",
    "moneda = []\n",
    "for i in range(10):\n",
    "    moneda.append(random.getrandbits(1))\n",
    "print(moneda)"
   ]
  },
  {
   "cell_type": "code",
   "execution_count": 23,
   "metadata": {},
   "outputs": [
    {
     "output_type": "stream",
     "name": "stdout",
     "text": [
      "Chance of streak: 3.22%\n"
     ]
    }
   ],
   "source": [
    "import random\n",
    "numberOfStreaks = 0\n",
    "caras =[]\n",
    "for experimentNumber in range(10000):\n",
    "    caras = []\n",
    "    for flip in range(100):\n",
    "        caras.append(random.getrandbits(1))\n",
    "    repe = 1\n",
    "    for i in range(1,len(caras)):\n",
    "        if caras[i] == caras[i-1]:\n",
    "            repe += 1\n",
    "        else:\n",
    "            repe = 1\n",
    "    if repe > 5:\n",
    "        numberOfStreaks += 1\n",
    "\n",
    "print('Chance of streak: %s%%' % (numberOfStreaks / 100))\n"
   ]
  },
  {
   "source": [
    "# Character Picture Grid"
   ],
   "cell_type": "markdown",
   "metadata": {}
  },
  {
   "cell_type": "code",
   "execution_count": 24,
   "metadata": {},
   "outputs": [],
   "source": [
    "grid = [['.', '.', '.', '.', '.', '.'],\n",
    "['.', 'O', 'O', '.', '.', '.'],\n",
    "['O', 'O', 'O', 'O', '.', '.'],\n",
    "['O', 'O', 'O', 'O', 'O', '.'],\n",
    "['.', 'O', 'O', 'O', 'O', 'O'],\n",
    "['O', 'O', 'O', 'O', 'O', '.'],\n",
    "['O', 'O', 'O', 'O', '.', '.'],\n",
    "['.', 'O', 'O', '.', '.', '.'],\n",
    "['.', '.', '.', '.', '.', '.']]"
   ]
  },
  {
   "cell_type": "code",
   "execution_count": 43,
   "metadata": {},
   "outputs": [
    {
     "output_type": "stream",
     "name": "stdout",
     "text": [
      "......\n.OO...\nOOOO..\nOOOOO.\n.OOOOO\nOOOOO.\nOOOO..\n.OO...\n......\n"
     ]
    }
   ],
   "source": [
    "for j in range(len(grid)):\n",
    "    for i in range(len(grid[0])):\n",
    "        print(grid[j][i],end='')\n",
    "    print('')"
   ]
  },
  {
   "cell_type": "code",
   "execution_count": 44,
   "metadata": {},
   "outputs": [
    {
     "output_type": "stream",
     "name": "stdout",
     "text": [
      "..OO.OO..\n.OOOOOOO.\n.OOOOOOO.\n..OOOOO..\n...OOO...\n....O....\n"
     ]
    }
   ],
   "source": [
    "for j in range(len(grid[0])):\n",
    "    for i in range(len(grid)):\n",
    "        print(grid[i][j],end='')\n",
    "    print('')"
   ]
  }
 ]
}