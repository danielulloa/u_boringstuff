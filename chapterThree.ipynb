{
 "metadata": {
  "language_info": {
   "codemirror_mode": {
    "name": "ipython",
    "version": 3
   },
   "file_extension": ".py",
   "mimetype": "text/x-python",
   "name": "python",
   "nbconvert_exporter": "python",
   "pygments_lexer": "ipython3",
   "version": "3.8.6-final"
  },
  "orig_nbformat": 2,
  "kernelspec": {
   "name": "python3",
   "display_name": "Python 3.8.6 64-bit",
   "metadata": {
    "interpreter": {
     "hash": "2db524e06e9f5f4ffedc911c917cb75e12dbc923643829bf417064a77eb14d37"
    }
   }
  }
 },
 "nbformat": 4,
 "nbformat_minor": 2,
 "cells": [
  {
   "source": [
    "# The Collatz Sequence"
   ],
   "cell_type": "markdown",
   "metadata": {}
  },
  {
   "cell_type": "code",
   "execution_count": null,
   "metadata": {},
   "outputs": [],
   "source": [
    "def collatz(number):\n",
    "    if number%2==0:\n",
    "        return int(number/2)\n",
    "    else:\n",
    "        return 3*number+1"
   ]
  },
  {
   "cell_type": "code",
   "execution_count": null,
   "metadata": {},
   "outputs": [],
   "source": [
    "assert collatz(2) == 1\n",
    "assert collatz(3) == 10"
   ]
  },
  {
   "cell_type": "code",
   "execution_count": 25,
   "metadata": {
    "tags": []
   },
   "outputs": [
    {
     "output_type": "stream",
     "name": "stdout",
     "text": [
      "You must enter an integer\n"
     ]
    }
   ],
   "source": [
    "try:\n",
    "    entrada = int(input('Enter number'))\n",
    "    print(entrada)\n",
    "    while True:\n",
    "        salida = collatz(entrada)\n",
    "        if salida == 1:\n",
    "            print(salida)\n",
    "            break\n",
    "        else:\n",
    "            entrada = salida\n",
    "            print(salida)\n",
    "except ValueError:\n",
    "    print('You must enter an integer')\n"
   ]
  }
 ]
}