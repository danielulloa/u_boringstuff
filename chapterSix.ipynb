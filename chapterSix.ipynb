{
 "metadata": {
  "language_info": {
   "codemirror_mode": {
    "name": "ipython",
    "version": 3
   },
   "file_extension": ".py",
   "mimetype": "text/x-python",
   "name": "python",
   "nbconvert_exporter": "python",
   "pygments_lexer": "ipython3",
   "version": "3.8.6-final"
  },
  "orig_nbformat": 2,
  "kernelspec": {
   "name": "python3",
   "display_name": "Python 3.8.6 64-bit",
   "metadata": {
    "interpreter": {
     "hash": "2db524e06e9f5f4ffedc911c917cb75e12dbc923643829bf417064a77eb14d37"
    }
   }
  }
 },
 "nbformat": 4,
 "nbformat_minor": 2,
 "cells": [
  {
   "source": [
    "# Table Printer"
   ],
   "cell_type": "markdown",
   "metadata": {}
  },
  {
   "cell_type": "code",
   "execution_count": 1,
   "metadata": {},
   "outputs": [],
   "source": [
    "tableData = [['apples', 'oranges', 'cherries', 'banana'],\n",
    "['Alice', 'Bob', 'Carol', 'David'],\n",
    "['dogs', 'cats', 'moose', 'goose']]"
   ]
  },
  {
   "cell_type": "code",
   "execution_count": 2,
   "metadata": {},
   "outputs": [
    {
     "output_type": "stream",
     "name": "stdout",
     "text": [
      "  apples   Alice    dogs\n oranges     Bob    cats\ncherries   Carol   moose\n  banana   David   goose\n"
     ]
    }
   ],
   "source": [
    "largestW = len(tableData[0][0])\n",
    "for row in range(len(tableData)):\n",
    "    for column in range(len(tableData[0])):\n",
    "        wordSize = len(tableData[row][column])\n",
    "        if wordSize>largestW:\n",
    "            largestW = wordSize\n",
    "\n",
    "for column in range(len(tableData[0])):\n",
    "    for row in range(len(tableData)):\n",
    "        if row == len(tableData)-1:\n",
    "            print(tableData[row][column].rjust(largestW), end='\\n')\n",
    "        else:\n",
    "            print(tableData[row][column].rjust(largestW),end='')\n",
    "    \n"
   ]
  },
  {
   "cell_type": "code",
   "execution_count": null,
   "metadata": {},
   "outputs": [],
   "source": []
  }
 ]
}