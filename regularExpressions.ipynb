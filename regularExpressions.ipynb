{
 "metadata": {
  "language_info": {
   "codemirror_mode": {
    "name": "ipython",
    "version": 3
   },
   "file_extension": ".py",
   "mimetype": "text/x-python",
   "name": "python",
   "nbconvert_exporter": "python",
   "pygments_lexer": "ipython3",
   "version": "3.8.6-final"
  },
  "orig_nbformat": 2,
  "kernelspec": {
   "name": "python3",
   "display_name": "Python 3.8.6 64-bit",
   "metadata": {
    "interpreter": {
     "hash": "2db524e06e9f5f4ffedc911c917cb75e12dbc923643829bf417064a77eb14d37"
    }
   }
  }
 },
 "nbformat": 4,
 "nbformat_minor": 2,
 "cells": [
  {
   "cell_type": "code",
   "execution_count": null,
   "metadata": {},
   "outputs": [],
   "source": [
    "def isPhoneNumber(text):\n",
    "    if len(text) != 12:\n",
    "        return False\n",
    "    for i in range(0,3):\n",
    "        if not text[i].isdecimal():\n",
    "            return False\n",
    "    if text[3] != '-':\n",
    "        return False\n",
    "    for i in range(4,7):\n",
    "        if not text[i].isdecimal():\n",
    "            return False\n",
    "    if text[7] != '-':\n",
    "        return False\n",
    "    for i in range(8,12):\n",
    "        if not text[i].isdecimal():\n",
    "            return False\n",
    "    return True"
   ]
  },
  {
   "cell_type": "code",
   "execution_count": null,
   "metadata": {},
   "outputs": [],
   "source": [
    "message = 'Call me 415-555-1011 tomorrow, or at 415-555-9999 for my office line'\n",
    "foundNumber = False\n",
    "\n",
    "for i in range(len(message)):\n",
    "    chunk = message[i:i+12]\n",
    "    if isPhoneNumber(chunk):\n",
    "        print('Phone number found: '+chunk)\n",
    "        foundNumber = True\n",
    "if not foundNumber:\n",
    "    print('Could not find any phone numbers.')"
   ]
  },
  {
   "source": [
    "# RegEx\n",
    "\n",
    "La funcion re.compile() tiene dos métodos search() y findall()"
   ],
   "cell_type": "markdown",
   "metadata": {}
  },
  {
   "cell_type": "code",
   "execution_count": null,
   "metadata": {},
   "outputs": [],
   "source": [
    "import re\n",
    "\n",
    "message = 'Call me 415-555-1011 tomorrow, or at 415-555-9999 for my office line'\n",
    "phoneNumRegex = re.compile(r'\\d\\d\\d-\\d\\d\\d-\\d\\d\\d\\d')\n",
    "mo = phoneNumRegex.search(message)\n",
    "print(mo)\n",
    "print(mo.group())"
   ]
  },
  {
   "cell_type": "code",
   "execution_count": null,
   "metadata": {},
   "outputs": [],
   "source": [
    "phoneNumRegex = re.compile(r'\\d\\d\\d-\\d\\d\\d-\\d\\d\\d\\d')\n",
    "mo = phoneNumRegex.search('My number is 415-555-4242.')\n",
    "print('Phone number found: ' + mo.group())"
   ]
  },
  {
   "cell_type": "code",
   "execution_count": null,
   "metadata": {},
   "outputs": [],
   "source": [
    "message = 'Call me 415-555-1011 tomorrow, or at 415-555-9999 for my office line'\n",
    "numero = re.findall(r'\\d\\d\\d-\\d\\d\\d-\\d\\d\\d\\d',message)\n",
    "print(numero)"
   ]
  },
  {
   "source": [
    "## Grupos"
   ],
   "cell_type": "markdown",
   "metadata": {}
  },
  {
   "cell_type": "code",
   "execution_count": null,
   "metadata": {},
   "outputs": [],
   "source": [
    "phoneNumRegex = re.compile(r'(\\d\\d\\d)-(\\d\\d\\d-\\d\\d\\d\\d)')\n",
    "mo = phoneNumRegex.search('My number is 415-455-4242')\n",
    "print(mo.group())\n",
    "print(mo.group(1))"
   ]
  },
  {
   "cell_type": "code",
   "execution_count": null,
   "metadata": {},
   "outputs": [],
   "source": [
    "batRegex = re.compile(r'Bat(man|mobile|copter|bat)')\n",
    "mo = batRegex.search('Batmobile lost a wheel')\n",
    "print(mo.group())\n",
    "print(mo.group(1))"
   ]
  },
  {
   "source": [
    "Si no se encuentra en el texto devuelve None, lo cual da un error al intentar mostrar resultados"
   ],
   "cell_type": "markdown",
   "metadata": {}
  },
  {
   "cell_type": "code",
   "execution_count": null,
   "metadata": {},
   "outputs": [],
   "source": [
    "mo = batRegex.search('Batmotorcycle lost a wheel')\n",
    "mo == None"
   ]
  },
  {
   "cell_type": "code",
   "execution_count": null,
   "metadata": {},
   "outputs": [],
   "source": [
    "mo.group()"
   ]
  },
  {
   "cell_type": "code",
   "execution_count": null,
   "metadata": {},
   "outputs": [],
   "source": [
    "batRegex = re.compile(r'Bat(wo)?man')\n",
    "mo = batRegex.search('The Adventures of Batman')\n",
    "mo.group()"
   ]
  },
  {
   "cell_type": "code",
   "execution_count": null,
   "metadata": {},
   "outputs": [],
   "source": [
    "mo = batRegex.search('The Adventures of Batwoman')\n",
    "mo.group()"
   ]
  },
  {
   "cell_type": "code",
   "execution_count": null,
   "metadata": {},
   "outputs": [],
   "source": [
    "mo = batRegex.search('The Adventures of Batwowowowoman')\n",
    "mo == None"
   ]
  },
  {
   "cell_type": "code",
   "execution_count": 2,
   "metadata": {},
   "outputs": [
    {
     "output_type": "execute_result",
     "data": {
      "text/plain": [
       "'415-555-1234'"
      ]
     },
     "metadata": {},
     "execution_count": 2
    }
   ],
   "source": [
    "import re\n",
    "\n",
    "phoneRegex = re.compile(r'\\d\\d\\d-\\d\\d\\d-\\d\\d\\d\\d')\n",
    "mo = phoneRegex.search('My phone number is 415-555-1234. Call me tomorrow')\n",
    "mo.group()"
   ]
  },
  {
   "cell_type": "code",
   "execution_count": 3,
   "metadata": {},
   "outputs": [
    {
     "output_type": "execute_result",
     "data": {
      "text/plain": [
       "True"
      ]
     },
     "metadata": {},
     "execution_count": 3
    }
   ],
   "source": [
    "mo = phoneRegex.search('My phone number is 555-1234. Call me tomorrow.')\n",
    "mo == None"
   ]
  },
  {
   "cell_type": "code",
   "execution_count": 5,
   "metadata": {},
   "outputs": [],
   "source": [
    "phoneRegex = re.compile(r'(\\d\\d\\d-)?\\d\\d\\d-\\d\\d\\d\\d')"
   ]
  },
  {
   "cell_type": "code",
   "execution_count": 6,
   "metadata": {},
   "outputs": [
    {
     "output_type": "execute_result",
     "data": {
      "text/plain": [
       "<re.Match object; span=(19, 31), match='415-555-1234'>"
      ]
     },
     "metadata": {},
     "execution_count": 6
    }
   ],
   "source": [
    "phoneRegex.search('My phone number is 415-555-1234. Call me tomorrow')"
   ]
  },
  {
   "cell_type": "code",
   "execution_count": 7,
   "metadata": {},
   "outputs": [
    {
     "output_type": "execute_result",
     "data": {
      "text/plain": [
       "<re.Match object; span=(19, 27), match='555-1234'>"
      ]
     },
     "metadata": {},
     "execution_count": 7
    }
   ],
   "source": [
    "phoneRegex.search('My phone number is 555-1234. Call me tomorrow')"
   ]
  },
  {
   "cell_type": "code",
   "execution_count": 11,
   "metadata": {},
   "outputs": [
    {
     "output_type": "execute_result",
     "data": {
      "text/plain": [
       "<re.Match object; span=(0, 16), match='Goooooooooooogle'>"
      ]
     },
     "metadata": {},
     "execution_count": 11
    }
   ],
   "source": [
    "googleRegex = re.compile(r'Go(o)+gle')\n",
    "googleRegex.search('Goooooooooooogle')"
   ]
  },
  {
   "cell_type": "code",
   "execution_count": 14,
   "metadata": {},
   "outputs": [
    {
     "output_type": "execute_result",
     "data": {
      "text/plain": [
       "['00:00:08.730',\n",
       " '00:00:08.731',\n",
       " '00:00:08.732',\n",
       " '00:00:08.732',\n",
       " '00:00:08.733',\n",
       " '00:00:08.734',\n",
       " '00:00:08.738']"
      ]
     },
     "metadata": {},
     "execution_count": 14
    }
   ],
   "source": [
    "logs = '''00:00:08.730 : Loaded traffic trailers of type 'train_cargo': 15\n",
    "00:00:08.731 : Loaded traffic trailers of type 'car': 5\n",
    "00:00:08.732 : Loaded traffic trailers of type 'bus': 0\n",
    "00:00:08.732 : Loaded traffic trailers of type 'truck': 0\n",
    "00:00:08.733 : Loaded traffic trailers of type 'tram': 3\n",
    "00:00:08.734 : Loaded traffic trailers of type 'train': 6\n",
    "00:00:08.738 : Loaded traffic trailers of type 'custom': 60'''\n",
    "regex = re.compile(r'\\d\\d\\:\\d\\d\\:\\d\\d\\.\\d\\d\\d')\n",
    "regex.findall(logs)"
   ]
  },
  {
   "cell_type": "code",
   "execution_count": 17,
   "metadata": {},
   "outputs": [
    {
     "output_type": "execute_result",
     "data": {
      "text/plain": [
       "<re.Match object; span=(9, 19), match='HaHaHaHaHa'>"
      ]
     },
     "metadata": {},
     "execution_count": 17
    }
   ],
   "source": [
    "haRegex = re.compile(r'(Ha){3,5}')\n",
    "haRegex.search('He said \"HaHaHaHaHaHaHaHaHa')"
   ]
  },
  {
   "source": [
    "## Greedy match"
   ],
   "cell_type": "markdown",
   "metadata": {}
  },
  {
   "cell_type": "code",
   "execution_count": 19,
   "metadata": {},
   "outputs": [
    {
     "output_type": "execute_result",
     "data": {
      "text/plain": [
       "<re.Match object; span=(0, 5), match='12345'>"
      ]
     },
     "metadata": {},
     "execution_count": 19
    }
   ],
   "source": [
    "digitRegex = re.compile(r'(\\d){3,5}')\n",
    "digitRegex.search('1234567890')"
   ]
  },
  {
   "source": [
    "## Non-Greedy match"
   ],
   "cell_type": "markdown",
   "metadata": {}
  },
  {
   "cell_type": "code",
   "execution_count": 20,
   "metadata": {},
   "outputs": [
    {
     "output_type": "execute_result",
     "data": {
      "text/plain": [
       "<re.Match object; span=(0, 3), match='123'>"
      ]
     },
     "metadata": {},
     "execution_count": 20
    }
   ],
   "source": [
    "digitRegex = re.compile(r'(\\d){3,5}?')\n",
    "digitRegex.search('1234567890')"
   ]
  },
  {
   "source": [
    "## Clases de caracteres\n",
    "| Clase caracter | Representa                                                        |\n",
    "|:----------------:|-------------------------------------------------------------------|\n",
    "| \\d             | Cualquier digito del 0 al 9                                       |\n",
    "| \\D             | Cualquier caracter que no es numérico 0 al 9                      |\n",
    "| \\w             | Cualquier letra, numero o guion bajo                              |\n",
    "| \\W             | Cualquier caracter que no es una letra, número o guion bajo       |\n",
    "| \\s             | Cualquier espacio, tabulacion o nueva linea                       |\n",
    "| \\S             | Cualquier caracter que no es un espacio, tabulacion o nueva linea |\n"
   ],
   "cell_type": "markdown",
   "metadata": {}
  },
  {
   "cell_type": "code",
   "execution_count": 21,
   "metadata": {},
   "outputs": [
    {
     "output_type": "execute_result",
     "data": {
      "text/plain": [
       "['30 kg', '20 kg', '15 kg']"
      ]
     },
     "metadata": {},
     "execution_count": 21
    }
   ],
   "source": [
    "chiste = '''-Señor comisario, hemos incautado 30 kg de cocaína.\n",
    "-¿20 kg de cocaína?\n",
    "-Sí, 15 kg, señor comisario.'''\n",
    "blancaRegex = re.compile(r'\\d+\\s\\w+')\n",
    "blancaRegex.findall(chiste)"
   ]
  },
  {
   "source": [
    "Clases personalizadas"
   ],
   "cell_type": "markdown",
   "metadata": {}
  },
  {
   "cell_type": "code",
   "execution_count": 14,
   "metadata": {},
   "outputs": [
    {
     "output_type": "stream",
     "name": "stdout",
     "text": [
      "['e', 'e', 'i', 'e', 'i', 'a', 'e', 'e', 'i', 'e', 'a', 'a', 'u', 'o', 'e', 'e', 'e', 'a', 'i', 'a', 'e', 'o', 'o', 'u', 'o', 'e', 'e', 'e', 'a', 'a', 'a', 'o', 'u', 'e', 'a', 'a', 'a', 'e', 'e', 'e', 'o', 'e', 'a', 'a', 'a', 'e', 'a', 'e', 'i', 'o', 'e', 'i', 'a', 'a', 'a']\n"
     ]
    }
   ],
   "source": [
    "trabalenguas = '''Pepe pide pipas\n",
    "y Pepe pide Papas,\n",
    "pudo Pepe pelar pipas,\n",
    "pero no pudo Pepe pelar papas,\n",
    "porque las papas de Pepe \n",
    "no eran papas,\n",
    "¡eran pepinos!, metió la pata'''\n",
    "vocalRegex = re.compile(r'[aeiouAEIOU]')\n",
    "print(vocalRegex.findall(trabalenguas))"
   ]
  },
  {
   "cell_type": "code",
   "execution_count": 26,
   "metadata": {},
   "outputs": [
    {
     "output_type": "stream",
     "name": "stdout",
     "text": [
      "['P', 'p', ' ', 'p', 'd', ' ', 'p', 'p', 's', '\\n', 'y', ' ', 'P', 'p', ' ', 'p', 'd', ' ', 'P', 'p', 's', ',', '\\n', 'p', 'd', ' ', 'P', 'p', ' ', 'p', 'l', 'r', ' ', 'p', 'p', 's', ',', '\\n', 'p', 'r', ' ', 'n', ' ', 'p', 'd', ' ', 'P', 'p', ' ', 'p', 'l', 'r', ' ', 'p', 'p', 's', ',', '\\n', 'p', 'r', 'q', ' ', 'l', 's', ' ', 'p', 'p', 's', ' ', 'd', ' ', 'P', 'p', ' ', '\\n', 'n', ' ', 'r', 'n', ' ', 'p', 'p', 's', ',', '\\n', '¡', 'r', 'n', ' ', 'p', 'p', 'n', 's', '!', ',', ' ', 'm', 't', 'ó', ' ', 'l', ' ', 'p', 't']\n"
     ]
    }
   ],
   "source": [
    "consRegex = re.compile(r'[^aeiouAEIOU]')\n",
    "print(consRegex.findall(trabalenguas))"
   ]
  },
  {
   "source": [
    "Buscar al principio"
   ],
   "cell_type": "markdown",
   "metadata": {}
  },
  {
   "cell_type": "code",
   "execution_count": 1,
   "metadata": {},
   "outputs": [
    {
     "output_type": "execute_result",
     "data": {
      "text/plain": [
       "<re.Match object; span=(0, 5), match='Hello'>"
      ]
     },
     "metadata": {},
     "execution_count": 1
    }
   ],
   "source": [
    "import re\n",
    "beginsWithHelloRegex = re.compile(r'^Hello')\n",
    "beginsWithHelloRegex.search('Hello there!')"
   ]
  },
  {
   "cell_type": "code",
   "execution_count": 2,
   "metadata": {},
   "outputs": [
    {
     "output_type": "execute_result",
     "data": {
      "text/plain": [
       "True"
      ]
     },
     "metadata": {},
     "execution_count": 2
    }
   ],
   "source": [
    "beginsWithHelloRegex.search('He said \"Hello\"')== None"
   ]
  },
  {
   "cell_type": "code",
   "execution_count": 3,
   "metadata": {},
   "outputs": [
    {
     "output_type": "execute_result",
     "data": {
      "text/plain": [
       "<re.Match object; span=(6, 12), match='world!'>"
      ]
     },
     "metadata": {},
     "execution_count": 3
    }
   ],
   "source": [
    "endsWithWorldRegex = re.compile(r'world!$')\n",
    "endsWithWorldRegex.search('Hello world!')"
   ]
  },
  {
   "source": [
    "los wildcard siempre son greedy"
   ],
   "cell_type": "markdown",
   "metadata": {}
  },
  {
   "cell_type": "code",
   "execution_count": 4,
   "metadata": {},
   "outputs": [
    {
     "output_type": "execute_result",
     "data": {
      "text/plain": [
       "['cat', 'hat', 'sat', 'lat', 'mat']"
      ]
     },
     "metadata": {},
     "execution_count": 4
    }
   ],
   "source": [
    "atRegex = re.compile(r'.at')\n",
    "atRegex.findall('The cat in the hat sat on the flat mat')"
   ]
  },
  {
   "cell_type": "code",
   "execution_count": 5,
   "metadata": {},
   "outputs": [
    {
     "output_type": "execute_result",
     "data": {
      "text/plain": [
       "[' cat', ' hat', ' sat', 'flat', ' mat']"
      ]
     },
     "metadata": {},
     "execution_count": 5
    }
   ],
   "source": [
    "atRegex = re.compile(r'.{1,2}at')\n",
    "atRegex.findall('The cat in the hat sat on the flat mat')"
   ]
  },
  {
   "cell_type": "code",
   "execution_count": 7,
   "metadata": {},
   "outputs": [
    {
     "output_type": "execute_result",
     "data": {
      "text/plain": [
       "[('Al', 'Sweigart')]"
      ]
     },
     "metadata": {},
     "execution_count": 7
    }
   ],
   "source": [
    "nombres = 'First Name: Al Last Name: Sweigart'\n",
    "nameRegex = re.compile(r'First Name: (.*) Last Name: (.*)')\n",
    "nameRegex.findall(nombres)"
   ]
  },
  {
   "cell_type": "code",
   "execution_count": null,
   "metadata": {},
   "outputs": [],
   "source": [
    "vowelRegex = re.compile(r'[aeiou]')"
   ]
  },
  {
   "cell_type": "code",
   "execution_count": 15,
   "metadata": {},
   "outputs": [
    {
     "output_type": "stream",
     "name": "stdout",
     "text": [
      "['A', 'o', 'e', 'o', 'u', 'o', 'a', 'i', 'o', 'o', 'a', 'a', 'o', 'u', 'o', 'o', 'o', 'o', 'u']\n"
     ]
    }
   ],
   "source": [
    "texto = 'Al, why does your programming book talk about RoboCop so much?'\n",
    "consRegex = re.compvocalRegex = re.compile(r'[aeiou]',re.IGNORECASE)\n",
    "print(vocalRegex.findall(texto))"
   ]
  },
  {
   "source": [
    "Buscar y reemplazar"
   ],
   "cell_type": "markdown",
   "metadata": {}
  },
  {
   "cell_type": "code",
   "execution_count": 16,
   "metadata": {},
   "outputs": [
    {
     "output_type": "execute_result",
     "data": {
      "text/plain": [
       "['Agent Alice', 'Agent Bob']"
      ]
     },
     "metadata": {},
     "execution_count": 16
    }
   ],
   "source": [
    "namesRegex = re.compile(r'Agent \\w+')\n",
    "namesRegex.findall('Agent Alice gave the secret documents to Agent Bob.')"
   ]
  },
  {
   "cell_type": "code",
   "execution_count": 17,
   "metadata": {},
   "outputs": [
    {
     "output_type": "execute_result",
     "data": {
      "text/plain": [
       "'REDACTED gave the secret documents to REDACTED.'"
      ]
     },
     "metadata": {},
     "execution_count": 17
    }
   ],
   "source": [
    "namesRegex.sub('REDACTED','Agent Alice gave the secret documents to Agent Bob.')"
   ]
  },
  {
   "cell_type": "code",
   "execution_count": 18,
   "metadata": {},
   "outputs": [
    {
     "output_type": "execute_result",
     "data": {
      "text/plain": [
       "['A', 'B']"
      ]
     },
     "metadata": {},
     "execution_count": 18
    }
   ],
   "source": [
    "namesRegex = re.compile(r'Agent (\\w)\\w*')\n",
    "namesRegex.findall('Agent Alice gave the secret documents to Agent Bob.')"
   ]
  },
  {
   "cell_type": "code",
   "execution_count": 19,
   "metadata": {},
   "outputs": [
    {
     "output_type": "execute_result",
     "data": {
      "text/plain": [
       "'Agent A**** gave the secret documents to Agent B****.'"
      ]
     },
     "metadata": {},
     "execution_count": 19
    }
   ],
   "source": [
    "namesRegex.sub(r'Agent \\1****','Agent Alice gave the secret documents to Agent Bob.')"
   ]
  },
  {
   "source": [
    "Verbose mode"
   ],
   "cell_type": "markdown",
   "metadata": {}
  },
  {
   "cell_type": "code",
   "execution_count": 25,
   "metadata": {},
   "outputs": [],
   "source": [
    "textNumeros = '''Jessie Mckay jmckay67@aol.com 479-205-4874 Tom Jordant jordan@msn.com 678-560-3485 Clayton Cross ccross20@gmail.com 724-900-2986 Rayford Sutton rayfords66@hotmail.com 242-391-3183 Jerome Gentry jgentry@me.com 604-720-6426 Weldon Camacho wcamacho57@icloud.com 651-807-8065 Quinton Franks qfranks@comcast.net 209-754-9111 Adam Hubbard cygzfjd61@outlook.com 641-433-6698 Jarred Fox jfox39@live.com 701-528-9851'''\n"
   ]
  },
  {
   "cell_type": "code",
   "execution_count": 26,
   "metadata": {},
   "outputs": [],
   "source": [
    "phoneRegex = re.compile ('''\n",
    "# 415-555-000, 555-000, (415) 555-0000, 555-0000 ext 12345, ext. 12345, x12345\n",
    "(\n",
    "((\\d\\d\\d)|(\\(\\d\\d\\d\\)))?            # area code (optional)\n",
    "(\\s|-)                              # first separator\n",
    "\\d\\d\\d                              # first 3 digits\n",
    "-                                   # separator\n",
    "\\d\\d\\d\\d                            # last 4 digits\n",
    "(((ext(\\.)?\\s)|x)                   # extension word-part (optional)\n",
    "(\\d{2,5}))?                         # extension number-part(optional)\n",
    ")\n",
    "''', re.VERBOSE)"
   ]
  },
  {
   "cell_type": "code",
   "execution_count": 27,
   "metadata": {},
   "outputs": [
    {
     "output_type": "execute_result",
     "data": {
      "text/plain": [
       "[('479-205-4874', '479', '479', '', '-', '', '', '', '', ''),\n",
       " ('678-560-3485', '678', '678', '', '-', '', '', '', '', ''),\n",
       " ('724-900-2986', '724', '724', '', '-', '', '', '', '', ''),\n",
       " ('242-391-3183', '242', '242', '', '-', '', '', '', '', ''),\n",
       " ('604-720-6426', '604', '604', '', '-', '', '', '', '', ''),\n",
       " ('651-807-8065', '651', '651', '', '-', '', '', '', '', ''),\n",
       " ('209-754-9111', '209', '209', '', '-', '', '', '', '', ''),\n",
       " ('641-433-6698', '641', '641', '', '-', '', '', '', '', ''),\n",
       " ('701-528-9851', '701', '701', '', '-', '', '', '', '', '')]"
      ]
     },
     "metadata": {},
     "execution_count": 27
    }
   ],
   "source": [
    "phoneRegex.findall(textNumeros)"
   ]
  },
  {
   "cell_type": "code",
   "execution_count": 28,
   "metadata": {},
   "outputs": [],
   "source": [
    "emailRegex = re.compile (r'''\n",
    "# some.+_thing@something.com\n",
    "[a-z0-9_.+]+        # name part\n",
    "@                   # @ symbol\n",
    "[a-z0-9_.+]+ \n",
    "''', re.VERBOSE)"
   ]
  },
  {
   "cell_type": "code",
   "execution_count": 29,
   "metadata": {},
   "outputs": [
    {
     "output_type": "execute_result",
     "data": {
      "text/plain": [
       "['jmckay67@aol.com',\n",
       " 'jordan@msn.com',\n",
       " 'ccross20@gmail.com',\n",
       " 'rayfords66@hotmail.com',\n",
       " 'jgentry@me.com',\n",
       " 'wcamacho57@icloud.com',\n",
       " 'qfranks@comcast.net',\n",
       " 'cygzfjd61@outlook.com',\n",
       " 'jfox39@live.com']"
      ]
     },
     "metadata": {},
     "execution_count": 29
    }
   ],
   "source": [
    "emailRegex.findall(textNumeros)"
   ]
  },
  {
   "cell_type": "code",
   "execution_count": null,
   "metadata": {},
   "outputs": [],
   "source": []
  }
 ]
}